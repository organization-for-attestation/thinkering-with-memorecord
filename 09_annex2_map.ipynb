{
 "cells": [
  {
   "cell_type": "code",
   "execution_count": 1,
   "id": "3f5e723e-6c8d-46bb-8cbb-a986ea21ef87",
   "metadata": {},
   "outputs": [],
   "source": [
    "import json\n",
    "from ipyleaflet import Icon, Marker, Map"
   ]
  },
  {
   "cell_type": "code",
   "execution_count": 2,
   "id": "56865008-ed5b-4900-800a-d0e5b6ed9d29",
   "metadata": {},
   "outputs": [],
   "source": [
    "locations = [\n",
    "    ((5.948715453669688, 49.5036259), \"University of Luxembourg, Belval Campus\"),\n",
    "    ((6.137209799999937, 49.59942979999999), \"Picanha Plaza\"),\n",
    "    ((6.136572399999977, 49.60135160000001), \"Rotondes\"),\n",
    "    ((6.139120000000048, 49.59727729999999), \"Maison des Jeunes Studio-Bonnevoie\"),\n",
    "    ((6.138524999999959, 49.5968943), \"Bouneweger Stuff\"),\n",
    "    ((6.134657899999979, 49.59740479999999), \"3 Dernier Sol\"),\n",
    "    ((6.135699299999942, 49.5954506), \"Café-Restaurant Boston\"),\n",
    "    ((6.137935999999968, 49.5964143), \"School Language Inlingua Luxembourg\"),\n",
    "    ((6.137250999999992, 49.59811800000001), \"Absolut Ink _ Tattoos & Piercings\"),\n",
    "    ((6.137693399999989, 49.6013138), \"BOUCHERIES BRILL\"),\n",
    "    ((6.137938200000008, 49.6009719), \"Cactus Marché Bonnevoie\"),\n",
    "    ((6.133232599999928, 49.60263439999999), \"Marché Sabor do Brasil\"),\n",
    "    ((6.117896500000029, 49.59781259999999), \"Circolo Culturale e Ricreativo Eugenio Curiel Asbl\"),\n",
    "    ((6.1357649000000265, 49.6080643), \"Libreria Italiana\"),\n",
    "    ((6.1181464000000005, 49.6292199), \"Maison des Associations Asbl\"),\n",
    "    ((6.125430800000004, 49.6093627), \"Amitie Portugal-luxembourg Asbl\"),\n",
    "    ((6.124125499999991, 49.5915596), \"CLAE Asbl - Comité de Liaison des Associations d'Etrangers - Reconnue d'utilité publique\"),\n",
    "    ((6.124653899999998, 49.5920818), \"Youth Club Gasperich\"),\n",
    "    ((6.124728300000015, 49.5990979), \"Centre de Planning Familial et d'Education Sexuelle et Affective\"),\n",
    "    ((6.1251307, 49.6268104), \"Asti A.s.b.l.\"),\n",
    "    ((6.173125499999969, 49.6361169), \"Luxexpo The Box\"),\n",
    "]"
   ]
  },
  {
   "cell_type": "code",
   "execution_count": 3,
   "id": "e8240cbf-7907-4e12-acff-a9c746824b5a",
   "metadata": {},
   "outputs": [],
   "source": [
    "markers = []\n",
    "for location in locations:\n",
    "    icon = Icon(\n",
    "        # icon_url='memorecord-logo.png', # note, this might not work in Jupyter Lab\n",
    "        icon_url=\"https://memorecord.uni.lu/assets/images/memorecord-logo.png\",\n",
    "        icon_size=[55.5, 45],\n",
    "        icon_anchor=[10, 50],\n",
    "        popup_anchor=[1, -34],\n",
    "    )\n",
    "    markers.append(\n",
    "        Marker(icon=icon, location=(location[0][1], location[0][0]))\n",
    "    )"
   ]
  },
  {
   "cell_type": "code",
   "execution_count": 4,
   "id": "3242fd1a-4d85-48ee-802c-5e3486c2c087",
   "metadata": {},
   "outputs": [],
   "source": [
    "map = Map(center=(49.599916, 6.134335), zoom=15)"
   ]
  },
  {
   "cell_type": "code",
   "execution_count": 5,
   "id": "9d60c7cf-3e38-461f-ac81-0ff9b9e9c174",
   "metadata": {},
   "outputs": [],
   "source": [
    "for marker in markers:\n",
    "    map.add(marker)"
   ]
  },
  {
   "cell_type": "code",
   "execution_count": 6,
   "id": "4ea54d1d-3444-404e-b4e5-15b151c69f33",
   "metadata": {},
   "outputs": [
    {
     "data": {
      "application/vnd.jupyter.widget-view+json": {
       "model_id": "aa3a60c121bd46d0918014908499267d",
       "version_major": 2,
       "version_minor": 0
      },
      "text/plain": [
       "Map(center=[49.599916, 6.134335], controls=(ZoomControl(options=['position', 'zoom_in_text', 'zoom_in_title', …"
      ]
     },
     "execution_count": 6,
     "metadata": {},
     "output_type": "execute_result"
    }
   ],
   "source": [
    "map"
   ]
  },
  {
   "cell_type": "code",
   "execution_count": null,
   "id": "12090c1e-3d2b-465f-b959-6349737b8b57",
   "metadata": {},
   "outputs": [],
   "source": []
  }
 ],
 "metadata": {
  "kernelspec": {
   "display_name": "Python 3 (ipykernel)",
   "language": "python",
   "name": "python3"
  },
  "language_info": {
   "codemirror_mode": {
    "name": "ipython",
    "version": 3
   },
   "file_extension": ".py",
   "mimetype": "text/x-python",
   "name": "python",
   "nbconvert_exporter": "python",
   "pygments_lexer": "ipython3",
   "version": "3.10.11"
  },
  "widgets": {
   "application/vnd.jupyter.widget-state+json": {
    "state": {
     "00da4b69b1444a2b85254b26ba2665eb": {
      "model_module": "jupyter-leaflet",
      "model_module_version": "^0.18",
      "model_name": "LeafletMarkerModel",
      "state": {
       "_model_module_version": "^0.18",
       "_view_module_version": "^0.18",
       "icon": "IPY_MODEL_8723f5ec6cfc48789b087a87f5602582",
       "location": [
        49.6361169,
        6.173125499999969
       ],
       "options": [
        "alt",
        "draggable",
        "keyboard",
        "rise_offset",
        "rise_on_hover",
        "rotation_angle",
        "rotation_origin",
        "title",
        "z_index_offset"
       ]
      }
     },
     "016c4a87ef3f4eb6a92ce4e70bb3e004": {
      "model_module": "jupyter-leaflet",
      "model_module_version": "^0.18",
      "model_name": "LeafletMarkerModel",
      "state": {
       "_model_module_version": "^0.18",
       "_view_module_version": "^0.18",
       "icon": "IPY_MODEL_6389047a360a4778a3a9c9e0558b4cb7",
       "location": [
        49.59740479999999,
        6.134657899999979
       ],
       "options": [
        "alt",
        "draggable",
        "keyboard",
        "rise_offset",
        "rise_on_hover",
        "rotation_angle",
        "rotation_origin",
        "title",
        "z_index_offset"
       ]
      }
     },
     "04d2245e15fa44ecba069058f648ef01": {
      "model_module": "@jupyter-widgets/base",
      "model_module_version": "2.0.0",
      "model_name": "LayoutModel",
      "state": {}
     },
     "057b1b6f74564bfb9464aa67e6576010": {
      "model_module": "jupyter-leaflet",
      "model_module_version": "^0.18",
      "model_name": "LeafletIconModel",
      "state": {
       "_model_module_version": "^0.18",
       "_view_module_version": "^0.18",
       "icon_anchor": [
        10,
        50
       ],
       "icon_size": [
        55.5,
        45
       ],
       "icon_url": "memorecord-logo.png",
       "options": [
        "icon_anchor",
        "icon_size",
        "icon_url",
        "popup_anchor",
        "shadow_anchor",
        "shadow_size",
        "shadow_url"
       ],
       "popup_anchor": [
        1,
        -34
       ],
       "shadow_url": null
      }
     },
     "0798647a0c8d4958956c53145f5fba74": {
      "model_module": "jupyter-leaflet",
      "model_module_version": "^0.18",
      "model_name": "LeafletIconModel",
      "state": {
       "_model_module_version": "^0.18",
       "_view_module_version": "^0.18",
       "icon_anchor": [
        10,
        50
       ],
       "icon_size": [
        55.5,
        45
       ],
       "icon_url": "memorecord-logo.png",
       "options": [
        "icon_anchor",
        "icon_size",
        "icon_url",
        "popup_anchor",
        "shadow_anchor",
        "shadow_size",
        "shadow_url"
       ],
       "popup_anchor": [
        1,
        -34
       ],
       "shadow_url": null
      }
     },
     "08073f3d1734499d9aba29c57fcc552f": {
      "model_module": "jupyter-leaflet",
      "model_module_version": "^0.18",
      "model_name": "LeafletIconModel",
      "state": {
       "_model_module_version": "^0.18",
       "_view_module_version": "^0.18",
       "icon_anchor": [
        10,
        50
       ],
       "icon_size": [
        55.5,
        45
       ],
       "icon_url": "memorecord-logo.png",
       "options": [
        "icon_anchor",
        "icon_size",
        "icon_url",
        "popup_anchor",
        "shadow_anchor",
        "shadow_size",
        "shadow_url"
       ],
       "popup_anchor": [
        1,
        -34
       ],
       "shadow_url": null
      }
     },
     "0a6f0a5634fd42339a0a672b5f878d14": {
      "model_module": "jupyter-leaflet",
      "model_module_version": "^0.18",
      "model_name": "LeafletMarkerModel",
      "state": {
       "_model_module_version": "^0.18",
       "_view_module_version": "^0.18",
       "icon": "IPY_MODEL_39531b3032074bb491d69ffc0fbcce9d",
       "location": [
        49.6361169,
        6.173125499999969
       ],
       "options": [
        "alt",
        "draggable",
        "keyboard",
        "rise_offset",
        "rise_on_hover",
        "rotation_angle",
        "rotation_origin",
        "title",
        "z_index_offset"
       ]
      }
     },
     "0e994d55f3044fa3bd5d4513e1732ada": {
      "model_module": "jupyter-leaflet",
      "model_module_version": "^0.18",
      "model_name": "LeafletMarkerModel",
      "state": {
       "_model_module_version": "^0.18",
       "_view_module_version": "^0.18",
       "icon": "IPY_MODEL_71c52a75f8684dae9f6499c5ab2b318c",
       "location": [
        49.6292199,
        6.1181464000000005
       ],
       "options": [
        "alt",
        "draggable",
        "keyboard",
        "rise_offset",
        "rise_on_hover",
        "rotation_angle",
        "rotation_origin",
        "title",
        "z_index_offset"
       ]
      }
     },
     "1218b7ebffdc4b74af6118129075683d": {
      "model_module": "jupyter-leaflet",
      "model_module_version": "^0.18",
      "model_name": "LeafletMarkerModel",
      "state": {
       "_model_module_version": "^0.18",
       "_view_module_version": "^0.18",
       "icon": "IPY_MODEL_89a8143d530f4363b8e11edde167d7e0",
       "location": [
        49.6080643,
        6.1357649000000265
       ],
       "options": [
        "alt",
        "draggable",
        "keyboard",
        "rise_offset",
        "rise_on_hover",
        "rotation_angle",
        "rotation_origin",
        "title",
        "z_index_offset"
       ]
      }
     },
     "156a1a85df094ce6813e95840b784309": {
      "model_module": "jupyter-leaflet",
      "model_module_version": "^0.18",
      "model_name": "LeafletMarkerModel",
      "state": {
       "_model_module_version": "^0.18",
       "_view_module_version": "^0.18",
       "icon": "IPY_MODEL_f38d093217774510b8e5b5779a99aaea",
       "location": [
        49.6093627,
        6.125430800000004
       ],
       "options": [
        "alt",
        "draggable",
        "keyboard",
        "rise_offset",
        "rise_on_hover",
        "rotation_angle",
        "rotation_origin",
        "title",
        "z_index_offset"
       ]
      }
     },
     "159b81d016594abfb9f5e3c4523fc92d": {
      "model_module": "jupyter-leaflet",
      "model_module_version": "^0.18",
      "model_name": "LeafletMarkerModel",
      "state": {
       "_model_module_version": "^0.18",
       "_view_module_version": "^0.18",
       "icon": "IPY_MODEL_fad67d692ded49f29d99a2c17f3f0680",
       "location": [
        49.59942979999999,
        6.137209799999937
       ],
       "options": [
        "alt",
        "draggable",
        "keyboard",
        "rise_offset",
        "rise_on_hover",
        "rotation_angle",
        "rotation_origin",
        "title",
        "z_index_offset"
       ]
      }
     },
     "1d4b418d9834407faf3cb12972b076a4": {
      "model_module": "jupyter-leaflet",
      "model_module_version": "^0.18",
      "model_name": "LeafletMarkerModel",
      "state": {
       "_model_module_version": "^0.18",
       "_view_module_version": "^0.18",
       "icon": "IPY_MODEL_f1e77da5751243e5a485aff87827019f",
       "location": [
        49.5920818,
        6.124653899999998
       ],
       "options": [
        "alt",
        "draggable",
        "keyboard",
        "rise_offset",
        "rise_on_hover",
        "rotation_angle",
        "rotation_origin",
        "title",
        "z_index_offset"
       ]
      }
     },
     "1d8599310c1a432687312a1180764210": {
      "model_module": "jupyter-leaflet",
      "model_module_version": "^0.18",
      "model_name": "LeafletIconModel",
      "state": {
       "_model_module_version": "^0.18",
       "_view_module_version": "^0.18",
       "icon_anchor": [
        10,
        50
       ],
       "icon_size": [
        55.5,
        45
       ],
       "icon_url": "memorecord-logo.png",
       "options": [
        "icon_anchor",
        "icon_size",
        "icon_url",
        "popup_anchor",
        "shadow_anchor",
        "shadow_size",
        "shadow_url"
       ],
       "popup_anchor": [
        1,
        -34
       ],
       "shadow_url": null
      }
     },
     "20b1e370b0cd4f94b5abe0c33a96d5bd": {
      "model_module": "jupyter-leaflet",
      "model_module_version": "^0.18",
      "model_name": "LeafletMarkerModel",
      "state": {
       "_model_module_version": "^0.18",
       "_view_module_version": "^0.18",
       "icon": "IPY_MODEL_cbe6a1dfc070413db35e50da1a5aed65",
       "location": [
        49.59708202571403,
        6.139812700661259
       ],
       "options": [
        "alt",
        "draggable",
        "keyboard",
        "rise_offset",
        "rise_on_hover",
        "rotation_angle",
        "rotation_origin",
        "title",
        "z_index_offset"
       ]
      }
     },
     "21fbdf491794403fa35baa822e137482": {
      "model_module": "jupyter-leaflet",
      "model_module_version": "^0.18",
      "model_name": "LeafletMarkerModel",
      "state": {
       "_model_module_version": "^0.18",
       "_view_module_version": "^0.18",
       "icon": "IPY_MODEL_564d596c224849d3931408eedcf97218",
       "location": [
        49.5954506,
        6.135699299999942
       ],
       "options": [
        "alt",
        "draggable",
        "keyboard",
        "rise_offset",
        "rise_on_hover",
        "rotation_angle",
        "rotation_origin",
        "title",
        "z_index_offset"
       ]
      }
     },
     "27324d120a654a75a79433600bd634dd": {
      "model_module": "jupyter-leaflet",
      "model_module_version": "^0.18",
      "model_name": "LeafletMarkerModel",
      "state": {
       "_model_module_version": "^0.18",
       "_view_module_version": "^0.18",
       "icon": "IPY_MODEL_39d4f2de285a49f7a98605b56cdbcec2",
       "location": [
        49.6268104,
        6.1251307
       ],
       "options": [
        "alt",
        "draggable",
        "keyboard",
        "rise_offset",
        "rise_on_hover",
        "rotation_angle",
        "rotation_origin",
        "title",
        "z_index_offset"
       ]
      }
     },
     "2a248a69806c44329468bee406cb3561": {
      "model_module": "jupyter-leaflet",
      "model_module_version": "^0.18",
      "model_name": "LeafletIconModel",
      "state": {
       "_model_module_version": "^0.18",
       "_view_module_version": "^0.18",
       "icon_anchor": [
        10,
        50
       ],
       "icon_size": [
        55.5,
        45
       ],
       "icon_url": "memorecord-logo.png",
       "options": [
        "icon_anchor",
        "icon_size",
        "icon_url",
        "popup_anchor",
        "shadow_anchor",
        "shadow_size",
        "shadow_url"
       ],
       "popup_anchor": [
        1,
        -34
       ],
       "shadow_url": null
      }
     },
     "372a9caee83345d1b67462e0cd3c22f2": {
      "model_module": "jupyter-leaflet",
      "model_module_version": "^0.18",
      "model_name": "LeafletMarkerModel",
      "state": {
       "_model_module_version": "^0.18",
       "_view_module_version": "^0.18",
       "icon": "IPY_MODEL_4d69aa2a0c9149f3b62e8c68960884c6",
       "location": [
        49.6013138,
        6.137693399999989
       ],
       "options": [
        "alt",
        "draggable",
        "keyboard",
        "rise_offset",
        "rise_on_hover",
        "rotation_angle",
        "rotation_origin",
        "title",
        "z_index_offset"
       ]
      }
     },
     "39531b3032074bb491d69ffc0fbcce9d": {
      "model_module": "jupyter-leaflet",
      "model_module_version": "^0.18",
      "model_name": "LeafletIconModel",
      "state": {
       "_model_module_version": "^0.18",
       "_view_module_version": "^0.18",
       "icon_anchor": [
        10,
        50
       ],
       "icon_size": [
        55.5,
        45
       ],
       "icon_url": "memorecord-logo.png",
       "options": [
        "icon_anchor",
        "icon_size",
        "icon_url",
        "popup_anchor",
        "shadow_anchor",
        "shadow_size",
        "shadow_url"
       ],
       "popup_anchor": [
        1,
        -34
       ],
       "shadow_url": null
      }
     },
     "39d4f2de285a49f7a98605b56cdbcec2": {
      "model_module": "jupyter-leaflet",
      "model_module_version": "^0.18",
      "model_name": "LeafletIconModel",
      "state": {
       "_model_module_version": "^0.18",
       "_view_module_version": "^0.18",
       "icon_anchor": [
        10,
        50
       ],
       "icon_size": [
        55.5,
        45
       ],
       "icon_url": "memorecord-logo.png",
       "options": [
        "icon_anchor",
        "icon_size",
        "icon_url",
        "popup_anchor",
        "shadow_anchor",
        "shadow_size",
        "shadow_url"
       ],
       "popup_anchor": [
        1,
        -34
       ],
       "shadow_url": null
      }
     },
     "3ee71e58d6fb49d8a484da2aea0c1219": {
      "model_module": "jupyter-leaflet",
      "model_module_version": "^0.18",
      "model_name": "LeafletIconModel",
      "state": {
       "_model_module_version": "^0.18",
       "_view_module_version": "^0.18",
       "icon_anchor": [
        10,
        50
       ],
       "icon_size": [
        55.5,
        45
       ],
       "icon_url": "memorecord-logo.png",
       "options": [
        "icon_anchor",
        "icon_size",
        "icon_url",
        "popup_anchor",
        "shadow_anchor",
        "shadow_size",
        "shadow_url"
       ],
       "popup_anchor": [
        1,
        -34
       ],
       "shadow_url": null
      }
     },
     "485f19e794e9410699d634f29fa43145": {
      "model_module": "jupyter-leaflet",
      "model_module_version": "^0.18",
      "model_name": "LeafletMarkerModel",
      "state": {
       "_model_module_version": "^0.18",
       "_view_module_version": "^0.18",
       "icon": "IPY_MODEL_7e4a40fc6c4e48588633970c09d35066",
       "location": [
        49.5915596,
        6.124125499999991
       ],
       "options": [
        "alt",
        "draggable",
        "keyboard",
        "rise_offset",
        "rise_on_hover",
        "rotation_angle",
        "rotation_origin",
        "title",
        "z_index_offset"
       ]
      }
     },
     "4c5cff4d2e504faf8710cb021f41a1ae": {
      "model_module": "jupyter-leaflet",
      "model_module_version": "^0.18",
      "model_name": "LeafletMarkerModel",
      "state": {
       "_model_module_version": "^0.18",
       "_view_module_version": "^0.18",
       "icon": "IPY_MODEL_a12937889ca34417836265041de4b505",
       "location": [
        49.5990979,
        6.124728300000015
       ],
       "options": [
        "alt",
        "draggable",
        "keyboard",
        "rise_offset",
        "rise_on_hover",
        "rotation_angle",
        "rotation_origin",
        "title",
        "z_index_offset"
       ]
      }
     },
     "4d69aa2a0c9149f3b62e8c68960884c6": {
      "model_module": "jupyter-leaflet",
      "model_module_version": "^0.18",
      "model_name": "LeafletIconModel",
      "state": {
       "_model_module_version": "^0.18",
       "_view_module_version": "^0.18",
       "icon_anchor": [
        10,
        50
       ],
       "icon_size": [
        55.5,
        45
       ],
       "icon_url": "memorecord-logo.png",
       "options": [
        "icon_anchor",
        "icon_size",
        "icon_url",
        "popup_anchor",
        "shadow_anchor",
        "shadow_size",
        "shadow_url"
       ],
       "popup_anchor": [
        1,
        -34
       ],
       "shadow_url": null
      }
     },
     "5010afec63ea47cbb0f899a23b73dc02": {
      "model_module": "jupyter-leaflet",
      "model_module_version": "^0.18",
      "model_name": "LeafletIconModel",
      "state": {
       "_model_module_version": "^0.18",
       "_view_module_version": "^0.18",
       "icon_anchor": [
        10,
        50
       ],
       "icon_size": [
        55.5,
        45
       ],
       "icon_url": "memorecord-logo.png",
       "options": [
        "icon_anchor",
        "icon_size",
        "icon_url",
        "popup_anchor",
        "shadow_anchor",
        "shadow_size",
        "shadow_url"
       ],
       "popup_anchor": [
        1,
        -34
       ],
       "shadow_url": null
      }
     },
     "50700d1ad5ce44b28cb93dee1d2ecac0": {
      "model_module": "jupyter-leaflet",
      "model_module_version": "^0.18",
      "model_name": "LeafletIconModel",
      "state": {
       "_model_module_version": "^0.18",
       "_view_module_version": "^0.18",
       "icon_anchor": [
        10,
        50
       ],
       "icon_size": [
        55.5,
        45
       ],
       "icon_url": "memorecord-logo.png",
       "options": [
        "icon_anchor",
        "icon_size",
        "icon_url",
        "popup_anchor",
        "shadow_anchor",
        "shadow_size",
        "shadow_url"
       ],
       "popup_anchor": [
        1,
        -34
       ],
       "shadow_url": null
      }
     },
     "5372ecdc906b40d0bb848ebae3cdb7c7": {
      "model_module": "jupyter-leaflet",
      "model_module_version": "^0.18",
      "model_name": "LeafletIconModel",
      "state": {
       "_model_module_version": "^0.18",
       "_view_module_version": "^0.18",
       "icon_anchor": [
        10,
        50
       ],
       "icon_size": [
        55.5,
        45
       ],
       "icon_url": "memorecord-logo.png",
       "options": [
        "icon_anchor",
        "icon_size",
        "icon_url",
        "popup_anchor",
        "shadow_anchor",
        "shadow_size",
        "shadow_url"
       ],
       "popup_anchor": [
        1,
        -34
       ],
       "shadow_url": null
      }
     },
     "56020d304e4e47a39ba99123d44a9578": {
      "model_module": "jupyter-leaflet",
      "model_module_version": "^0.18",
      "model_name": "LeafletMarkerModel",
      "state": {
       "_model_module_version": "^0.18",
       "_view_module_version": "^0.18",
       "icon": "IPY_MODEL_ca1eebf9c75f4888811062ef9701fe1d",
       "location": [
        49.6080643,
        6.1357649000000265
       ],
       "options": [
        "alt",
        "draggable",
        "keyboard",
        "rise_offset",
        "rise_on_hover",
        "rotation_angle",
        "rotation_origin",
        "title",
        "z_index_offset"
       ]
      }
     },
     "564d596c224849d3931408eedcf97218": {
      "model_module": "jupyter-leaflet",
      "model_module_version": "^0.18",
      "model_name": "LeafletIconModel",
      "state": {
       "_model_module_version": "^0.18",
       "_view_module_version": "^0.18",
       "icon_anchor": [
        10,
        50
       ],
       "icon_size": [
        55.5,
        45
       ],
       "icon_url": "memorecord-logo.png",
       "options": [
        "icon_anchor",
        "icon_size",
        "icon_url",
        "popup_anchor",
        "shadow_anchor",
        "shadow_size",
        "shadow_url"
       ],
       "popup_anchor": [
        1,
        -34
       ],
       "shadow_url": null
      }
     },
     "5720a4ea45214020a71da318c8035bc4": {
      "model_module": "jupyter-leaflet",
      "model_module_version": "^0.18",
      "model_name": "LeafletIconModel",
      "state": {
       "_model_module_version": "^0.18",
       "_view_module_version": "^0.18",
       "icon_anchor": [
        10,
        50
       ],
       "icon_size": [
        55.5,
        45
       ],
       "icon_url": "memorecord-logo.png",
       "options": [
        "icon_anchor",
        "icon_size",
        "icon_url",
        "popup_anchor",
        "shadow_anchor",
        "shadow_size",
        "shadow_url"
       ],
       "popup_anchor": [
        1,
        -34
       ],
       "shadow_url": null
      }
     },
     "57e0a03f60a045a6849aed5033f99a12": {
      "model_module": "jupyter-leaflet",
      "model_module_version": "^0.18",
      "model_name": "LeafletMarkerModel",
      "state": {
       "_model_module_version": "^0.18",
       "_view_module_version": "^0.18",
       "icon": "IPY_MODEL_0798647a0c8d4958956c53145f5fba74",
       "location": [
        49.59900128869781,
        6.1246203942760244
       ],
       "options": [
        "alt",
        "draggable",
        "keyboard",
        "rise_offset",
        "rise_on_hover",
        "rotation_angle",
        "rotation_origin",
        "title",
        "z_index_offset"
       ]
      }
     },
     "6389047a360a4778a3a9c9e0558b4cb7": {
      "model_module": "jupyter-leaflet",
      "model_module_version": "^0.18",
      "model_name": "LeafletIconModel",
      "state": {
       "_model_module_version": "^0.18",
       "_view_module_version": "^0.18",
       "icon_anchor": [
        10,
        50
       ],
       "icon_size": [
        55.5,
        45
       ],
       "icon_url": "memorecord-logo.png",
       "options": [
        "icon_anchor",
        "icon_size",
        "icon_url",
        "popup_anchor",
        "shadow_anchor",
        "shadow_size",
        "shadow_url"
       ],
       "popup_anchor": [
        1,
        -34
       ],
       "shadow_url": null
      }
     },
     "64461c19e8b94dcaa173dbaabc40c0d7": {
      "model_module": "jupyter-leaflet",
      "model_module_version": "^0.18",
      "model_name": "LeafletMarkerModel",
      "state": {
       "_model_module_version": "^0.18",
       "_view_module_version": "^0.18",
       "icon": "IPY_MODEL_e7a9155657f14bd5b6410842197c8641",
       "location": [
        49.59740479999999,
        6.134657899999979
       ],
       "options": [
        "alt",
        "draggable",
        "keyboard",
        "rise_offset",
        "rise_on_hover",
        "rotation_angle",
        "rotation_origin",
        "title",
        "z_index_offset"
       ]
      }
     },
     "646f9c17fdb647739a3e5e0b904e3443": {
      "model_module": "jupyter-leaflet",
      "model_module_version": "^0.18",
      "model_name": "LeafletMarkerModel",
      "state": {
       "_model_module_version": "^0.18",
       "_view_module_version": "^0.18",
       "icon": "IPY_MODEL_1d8599310c1a432687312a1180764210",
       "location": [
        49.59942979999999,
        6.137209799999937
       ],
       "options": [
        "alt",
        "draggable",
        "keyboard",
        "rise_offset",
        "rise_on_hover",
        "rotation_angle",
        "rotation_origin",
        "title",
        "z_index_offset"
       ]
      }
     },
     "653d3d19f2f24a2eb79f57a0f04d5c46": {
      "model_module": "jupyter-leaflet",
      "model_module_version": "^0.18",
      "model_name": "LeafletMarkerModel",
      "state": {
       "_model_module_version": "^0.18",
       "_view_module_version": "^0.18",
       "icon": "IPY_MODEL_db1db321fa0544f28e46fb7781e6bf07",
       "location": [
        49.6292199,
        6.1181464000000005
       ],
       "options": [
        "alt",
        "draggable",
        "keyboard",
        "rise_offset",
        "rise_on_hover",
        "rotation_angle",
        "rotation_origin",
        "title",
        "z_index_offset"
       ]
      }
     },
     "6ce5eecb5e7e4810b458890d303dc521": {
      "model_module": "jupyter-leaflet",
      "model_module_version": "^0.18",
      "model_name": "LeafletMarkerModel",
      "state": {
       "_model_module_version": "^0.18",
       "_view_module_version": "^0.18",
       "icon": "IPY_MODEL_e1adc7c7f89a4398a9447d60a6d53a1b",
       "location": [
        49.5968943,
        6.138524999999959
       ],
       "options": [
        "alt",
        "draggable",
        "keyboard",
        "rise_offset",
        "rise_on_hover",
        "rotation_angle",
        "rotation_origin",
        "title",
        "z_index_offset"
       ]
      }
     },
     "6d721de4480b452f95a145e4f68a189a": {
      "model_module": "jupyter-leaflet",
      "model_module_version": "^0.18",
      "model_name": "LeafletMapModel",
      "state": {
       "_model_module_version": "^0.18",
       "_view_module_version": "^0.18",
       "bottom": 2859596,
       "center": [
        49.599916,
        6.134335
       ],
       "controls": [
        "IPY_MODEL_b89294c7410e4b778538eda626236b05",
        "IPY_MODEL_eac50f82f0b14331a9ead7c3efebabca"
       ],
       "default_style": "IPY_MODEL_b85a0fe6ceb94380acfe67c76b4724fc",
       "dragging_style": "IPY_MODEL_b7aea30b5678430cb95aba5735a84dc1",
       "east": 6.15534782409668,
       "fullscreen": false,
       "interpolation": "bilinear",
       "layers": [
        "IPY_MODEL_7236ce09d16446569dba88f814f4816b",
        "IPY_MODEL_854994f8bc33457287d94b3f0827de3f",
        "IPY_MODEL_159b81d016594abfb9f5e3c4523fc92d",
        "IPY_MODEL_e4de5252bc384fa3bd8f8e180787ab49",
        "IPY_MODEL_cf8d5534d8214ceba02273821d5f6713",
        "IPY_MODEL_78e3af504ddb46ceb9e820e3710a49ff",
        "IPY_MODEL_64461c19e8b94dcaa173dbaabc40c0d7",
        "IPY_MODEL_ec8a1be66c8a43ecbe7ca47e3bbde5c2",
        "IPY_MODEL_faeca7a95d2a4a99959f1c5f513823af",
        "IPY_MODEL_b00beec4d7bb437b9440a8cee64e8b78",
        "IPY_MODEL_372a9caee83345d1b67462e0cd3c22f2",
        "IPY_MODEL_d2168cfbd189463bac5b5908e70065a8",
        "IPY_MODEL_89a5f91ef3474aa2a14cc426263f1b7b",
        "IPY_MODEL_f7fb903044504251ac8282eb053c2012",
        "IPY_MODEL_56020d304e4e47a39ba99123d44a9578",
        "IPY_MODEL_0e994d55f3044fa3bd5d4513e1732ada",
        "IPY_MODEL_848385d558154bb69556a7d40365f14a",
        "IPY_MODEL_cf57e7c61bd5446d87b42651f1976c56",
        "IPY_MODEL_ae02f49eae204a8f9623674abc517be1",
        "IPY_MODEL_4c5cff4d2e504faf8710cb021f41a1ae",
        "IPY_MODEL_27324d120a654a75a79433600bd634dd",
        "IPY_MODEL_0a6f0a5634fd42339a0a672b5f878d14"
       ],
       "layout": "IPY_MODEL_9d13894bfd0149eeb9b6e663784df8a4",
       "left": 4336754,
       "modisdate": "2024-06-10",
       "north": 49.605481720027086,
       "options": [
        "bounce_at_zoom_limits",
        "box_zoom",
        "center",
        "close_popup_on_click",
        "double_click_zoom",
        "dragging",
        "fullscreen",
        "inertia",
        "inertia_deceleration",
        "inertia_max_speed",
        "interpolation",
        "keyboard",
        "keyboard_pan_offset",
        "keyboard_zoom_offset",
        "max_zoom",
        "min_zoom",
        "prefer_canvas",
        "scroll_wheel_zoom",
        "tap",
        "tap_tolerance",
        "touch_zoom",
        "world_copy_jump",
        "zoom",
        "zoom_animation_threshold",
        "zoom_delta",
        "zoom_snap"
       ],
       "prefer_canvas": false,
       "right": 4337734,
       "south": 49.594355986113534,
       "style": "IPY_MODEL_a040d126f6a44c3d9675f9eab4f72e52",
       "top": 2859196,
       "west": 6.113290786743165,
       "window_url": "http://localhost:8888/notebooks/Projects/memorecord_map_hotspots-for-distribution-of-flyers-and-posters/notebook.ipynb#",
       "zoom": 15
      }
     },
     "70807314a9ed44699dbcca08daa5966e": {
      "model_module": "jupyter-leaflet",
      "model_module_version": "^0.18",
      "model_name": "LeafletIconModel",
      "state": {
       "_model_module_version": "^0.18",
       "_view_module_version": "^0.18",
       "icon_anchor": [
        10,
        50
       ],
       "icon_size": [
        55.5,
        45
       ],
       "icon_url": "memorecord-logo.png",
       "options": [
        "icon_anchor",
        "icon_size",
        "icon_url",
        "popup_anchor",
        "shadow_anchor",
        "shadow_size",
        "shadow_url"
       ],
       "popup_anchor": [
        1,
        -34
       ],
       "shadow_url": null
      }
     },
     "71c52a75f8684dae9f6499c5ab2b318c": {
      "model_module": "jupyter-leaflet",
      "model_module_version": "^0.18",
      "model_name": "LeafletIconModel",
      "state": {
       "_model_module_version": "^0.18",
       "_view_module_version": "^0.18",
       "icon_anchor": [
        10,
        50
       ],
       "icon_size": [
        55.5,
        45
       ],
       "icon_url": "memorecord-logo.png",
       "options": [
        "icon_anchor",
        "icon_size",
        "icon_url",
        "popup_anchor",
        "shadow_anchor",
        "shadow_size",
        "shadow_url"
       ],
       "popup_anchor": [
        1,
        -34
       ],
       "shadow_url": null
      }
     },
     "7236ce09d16446569dba88f814f4816b": {
      "model_module": "jupyter-leaflet",
      "model_module_version": "^0.18",
      "model_name": "LeafletTileLayerModel",
      "state": {
       "_model_module_version": "^0.18",
       "_view_module_version": "^0.18",
       "attribution": "&copy; <a href=\"https://www.openstreetmap.org/copyright\">OpenStreetMap</a> contributors",
       "base": true,
       "max_zoom": 19,
       "min_zoom": 1,
       "name": "OpenStreetMap.Mapnik",
       "options": [
        "attribution",
        "bounds",
        "detect_retina",
        "max_native_zoom",
        "max_zoom",
        "min_native_zoom",
        "min_zoom",
        "no_wrap",
        "tile_size",
        "tms",
        "zoom_offset"
       ],
       "url": "https://tile.openstreetmap.org/{z}/{x}/{y}.png"
      }
     },
     "77c26eefc82b44a1a7039a4a7af03be6": {
      "model_module": "jupyter-leaflet",
      "model_module_version": "^0.18",
      "model_name": "LeafletIconModel",
      "state": {
       "_model_module_version": "^0.18",
       "_view_module_version": "^0.18",
       "icon_anchor": [
        10,
        50
       ],
       "icon_size": [
        55.5,
        45
       ],
       "icon_url": "memorecord-logo.png",
       "options": [
        "icon_anchor",
        "icon_size",
        "icon_url",
        "popup_anchor",
        "shadow_anchor",
        "shadow_size",
        "shadow_url"
       ],
       "popup_anchor": [
        1,
        -34
       ],
       "shadow_url": null
      }
     },
     "78e3af504ddb46ceb9e820e3710a49ff": {
      "model_module": "jupyter-leaflet",
      "model_module_version": "^0.18",
      "model_name": "LeafletMarkerModel",
      "state": {
       "_model_module_version": "^0.18",
       "_view_module_version": "^0.18",
       "icon": "IPY_MODEL_d579fe862476459484cd0a1feb520be4",
       "location": [
        49.5968943,
        6.138524999999959
       ],
       "options": [
        "alt",
        "draggable",
        "keyboard",
        "rise_offset",
        "rise_on_hover",
        "rotation_angle",
        "rotation_origin",
        "title",
        "z_index_offset"
       ]
      }
     },
     "7e4a40fc6c4e48588633970c09d35066": {
      "model_module": "jupyter-leaflet",
      "model_module_version": "^0.18",
      "model_name": "LeafletIconModel",
      "state": {
       "_model_module_version": "^0.18",
       "_view_module_version": "^0.18",
       "icon_anchor": [
        10,
        50
       ],
       "icon_size": [
        55.5,
        45
       ],
       "icon_url": "memorecord-logo.png",
       "options": [
        "icon_anchor",
        "icon_size",
        "icon_url",
        "popup_anchor",
        "shadow_anchor",
        "shadow_size",
        "shadow_url"
       ],
       "popup_anchor": [
        1,
        -34
       ],
       "shadow_url": null
      }
     },
     "848385d558154bb69556a7d40365f14a": {
      "model_module": "jupyter-leaflet",
      "model_module_version": "^0.18",
      "model_name": "LeafletMarkerModel",
      "state": {
       "_model_module_version": "^0.18",
       "_view_module_version": "^0.18",
       "icon": "IPY_MODEL_92a11a5049a142139f936afa0622d7f9",
       "location": [
        49.6093627,
        6.125430800000004
       ],
       "options": [
        "alt",
        "draggable",
        "keyboard",
        "rise_offset",
        "rise_on_hover",
        "rotation_angle",
        "rotation_origin",
        "title",
        "z_index_offset"
       ]
      }
     },
     "854994f8bc33457287d94b3f0827de3f": {
      "model_module": "jupyter-leaflet",
      "model_module_version": "^0.18",
      "model_name": "LeafletMarkerModel",
      "state": {
       "_model_module_version": "^0.18",
       "_view_module_version": "^0.18",
       "icon": "IPY_MODEL_08073f3d1734499d9aba29c57fcc552f",
       "location": [
        49.5036259,
        5.948715453669688
       ],
       "options": [
        "alt",
        "draggable",
        "keyboard",
        "rise_offset",
        "rise_on_hover",
        "rotation_angle",
        "rotation_origin",
        "title",
        "z_index_offset"
       ]
      }
     },
     "85c0aaf752ff4f25b0f5a30818662276": {
      "model_module": "jupyter-leaflet",
      "model_module_version": "^0.18",
      "model_name": "LeafletTileLayerModel",
      "state": {
       "_model_module_version": "^0.18",
       "_view_module_version": "^0.18",
       "attribution": "&copy; <a href=\"https://www.openstreetmap.org/copyright\">OpenStreetMap</a> contributors",
       "base": true,
       "max_zoom": 19,
       "min_zoom": 1,
       "name": "OpenStreetMap.Mapnik",
       "options": [
        "attribution",
        "bounds",
        "detect_retina",
        "max_native_zoom",
        "max_zoom",
        "min_native_zoom",
        "min_zoom",
        "no_wrap",
        "tile_size",
        "tms",
        "zoom_offset"
       ],
       "url": "https://tile.openstreetmap.org/{z}/{x}/{y}.png"
      }
     },
     "8723f5ec6cfc48789b087a87f5602582": {
      "model_module": "jupyter-leaflet",
      "model_module_version": "^0.18",
      "model_name": "LeafletIconModel",
      "state": {
       "_model_module_version": "^0.18",
       "_view_module_version": "^0.18",
       "icon_anchor": [
        10,
        50
       ],
       "icon_size": [
        55.5,
        45
       ],
       "icon_url": "memorecord-logo.png",
       "options": [
        "icon_anchor",
        "icon_size",
        "icon_url",
        "popup_anchor",
        "shadow_anchor",
        "shadow_size",
        "shadow_url"
       ],
       "popup_anchor": [
        1,
        -34
       ],
       "shadow_url": null
      }
     },
     "886851eac14e4b3dbb1adf056689a3d3": {
      "model_module": "jupyter-leaflet",
      "model_module_version": "^0.18",
      "model_name": "LeafletMapStyleModel",
      "state": {
       "_model_module_version": "^0.18"
      }
     },
     "89a5f91ef3474aa2a14cc426263f1b7b": {
      "model_module": "jupyter-leaflet",
      "model_module_version": "^0.18",
      "model_name": "LeafletMarkerModel",
      "state": {
       "_model_module_version": "^0.18",
       "_view_module_version": "^0.18",
       "icon": "IPY_MODEL_d2d93fb7127740d48b29ad8b00dd7302",
       "location": [
        49.60263439999999,
        6.133232599999928
       ],
       "options": [
        "alt",
        "draggable",
        "keyboard",
        "rise_offset",
        "rise_on_hover",
        "rotation_angle",
        "rotation_origin",
        "title",
        "z_index_offset"
       ]
      }
     },
     "89a8143d530f4363b8e11edde167d7e0": {
      "model_module": "jupyter-leaflet",
      "model_module_version": "^0.18",
      "model_name": "LeafletIconModel",
      "state": {
       "_model_module_version": "^0.18",
       "_view_module_version": "^0.18",
       "icon_anchor": [
        10,
        50
       ],
       "icon_size": [
        55.5,
        45
       ],
       "icon_url": "memorecord-logo.png",
       "options": [
        "icon_anchor",
        "icon_size",
        "icon_url",
        "popup_anchor",
        "shadow_anchor",
        "shadow_size",
        "shadow_url"
       ],
       "popup_anchor": [
        1,
        -34
       ],
       "shadow_url": null
      }
     },
     "911b3fda408049e6ac9b257d4d2efb89": {
      "model_module": "jupyter-leaflet",
      "model_module_version": "^0.18",
      "model_name": "LeafletMarkerModel",
      "state": {
       "_model_module_version": "^0.18",
       "_view_module_version": "^0.18",
       "icon": "IPY_MODEL_70807314a9ed44699dbcca08daa5966e",
       "location": [
        49.60263439999999,
        6.133232599999928
       ],
       "options": [
        "alt",
        "draggable",
        "keyboard",
        "rise_offset",
        "rise_on_hover",
        "rotation_angle",
        "rotation_origin",
        "title",
        "z_index_offset"
       ]
      }
     },
     "92a11a5049a142139f936afa0622d7f9": {
      "model_module": "jupyter-leaflet",
      "model_module_version": "^0.18",
      "model_name": "LeafletIconModel",
      "state": {
       "_model_module_version": "^0.18",
       "_view_module_version": "^0.18",
       "icon_anchor": [
        10,
        50
       ],
       "icon_size": [
        55.5,
        45
       ],
       "icon_url": "memorecord-logo.png",
       "options": [
        "icon_anchor",
        "icon_size",
        "icon_url",
        "popup_anchor",
        "shadow_anchor",
        "shadow_size",
        "shadow_url"
       ],
       "popup_anchor": [
        1,
        -34
       ],
       "shadow_url": null
      }
     },
     "933a80a8510b456aa90daf458517cbdf": {
      "model_module": "jupyter-leaflet",
      "model_module_version": "^0.18",
      "model_name": "LeafletMarkerModel",
      "state": {
       "_model_module_version": "^0.18",
       "_view_module_version": "^0.18",
       "icon": "IPY_MODEL_3ee71e58d6fb49d8a484da2aea0c1219",
       "location": [
        49.5036259,
        5.948715453669688
       ],
       "options": [
        "alt",
        "draggable",
        "keyboard",
        "rise_offset",
        "rise_on_hover",
        "rotation_angle",
        "rotation_origin",
        "title",
        "z_index_offset"
       ]
      }
     },
     "93bbdaa5e7cb4acfb2f63560379606e7": {
      "model_module": "jupyter-leaflet",
      "model_module_version": "^0.18",
      "model_name": "LeafletIconModel",
      "state": {
       "_model_module_version": "^0.18",
       "_view_module_version": "^0.18",
       "icon_anchor": [
        10,
        50
       ],
       "icon_size": [
        55.5,
        45
       ],
       "icon_url": "memorecord-logo.png",
       "options": [
        "icon_anchor",
        "icon_size",
        "icon_url",
        "popup_anchor",
        "shadow_anchor",
        "shadow_size",
        "shadow_url"
       ],
       "popup_anchor": [
        1,
        -34
       ],
       "shadow_url": null
      }
     },
     "942aa340e254465494828e824554c910": {
      "model_module": "jupyter-leaflet",
      "model_module_version": "^0.18",
      "model_name": "LeafletMarkerModel",
      "state": {
       "_model_module_version": "^0.18",
       "_view_module_version": "^0.18",
       "icon": "IPY_MODEL_5010afec63ea47cbb0f899a23b73dc02",
       "location": [
        49.60135160000001,
        6.136572399999977
       ],
       "options": [
        "alt",
        "draggable",
        "keyboard",
        "rise_offset",
        "rise_on_hover",
        "rotation_angle",
        "rotation_origin",
        "title",
        "z_index_offset"
       ]
      }
     },
     "96b1697f06f8450595584d834c78c0f4": {
      "model_module": "jupyter-leaflet",
      "model_module_version": "^0.18",
      "model_name": "LeafletMapStyleModel",
      "state": {
       "_model_module_version": "^0.18",
       "cursor": "move"
      }
     },
     "97279ae899a14bcab175574abd6bcb84": {
      "model_module": "jupyter-leaflet",
      "model_module_version": "^0.18",
      "model_name": "LeafletIconModel",
      "state": {
       "_model_module_version": "^0.18",
       "_view_module_version": "^0.18",
       "icon_anchor": [
        10,
        50
       ],
       "icon_size": [
        55.5,
        45
       ],
       "icon_url": "memorecord-logo.png",
       "options": [
        "icon_anchor",
        "icon_size",
        "icon_url",
        "popup_anchor",
        "shadow_anchor",
        "shadow_size",
        "shadow_url"
       ],
       "popup_anchor": [
        1,
        -34
       ],
       "shadow_url": null
      }
     },
     "9d13894bfd0149eeb9b6e663784df8a4": {
      "model_module": "@jupyter-widgets/base",
      "model_module_version": "2.0.0",
      "model_name": "LayoutModel",
      "state": {}
     },
     "a040d126f6a44c3d9675f9eab4f72e52": {
      "model_module": "jupyter-leaflet",
      "model_module_version": "^0.18",
      "model_name": "LeafletMapStyleModel",
      "state": {
       "_model_module_version": "^0.18"
      }
     },
     "a12937889ca34417836265041de4b505": {
      "model_module": "jupyter-leaflet",
      "model_module_version": "^0.18",
      "model_name": "LeafletIconModel",
      "state": {
       "_model_module_version": "^0.18",
       "_view_module_version": "^0.18",
       "icon_anchor": [
        10,
        50
       ],
       "icon_size": [
        55.5,
        45
       ],
       "icon_url": "memorecord-logo.png",
       "options": [
        "icon_anchor",
        "icon_size",
        "icon_url",
        "popup_anchor",
        "shadow_anchor",
        "shadow_size",
        "shadow_url"
       ],
       "popup_anchor": [
        1,
        -34
       ],
       "shadow_url": null
      }
     },
     "abd190b5784f4e29b11f60eb54e02f48": {
      "model_module": "jupyter-leaflet",
      "model_module_version": "^0.18",
      "model_name": "LeafletIconModel",
      "state": {
       "_model_module_version": "^0.18",
       "_view_module_version": "^0.18",
       "icon_anchor": [
        10,
        50
       ],
       "icon_size": [
        55.5,
        45
       ],
       "icon_url": "memorecord-logo.png",
       "options": [
        "icon_anchor",
        "icon_size",
        "icon_url",
        "popup_anchor",
        "shadow_anchor",
        "shadow_size",
        "shadow_url"
       ],
       "popup_anchor": [
        1,
        -34
       ],
       "shadow_url": null
      }
     },
     "ae02f49eae204a8f9623674abc517be1": {
      "model_module": "jupyter-leaflet",
      "model_module_version": "^0.18",
      "model_name": "LeafletMarkerModel",
      "state": {
       "_model_module_version": "^0.18",
       "_view_module_version": "^0.18",
       "icon": "IPY_MODEL_5372ecdc906b40d0bb848ebae3cdb7c7",
       "location": [
        49.5920818,
        6.124653899999998
       ],
       "options": [
        "alt",
        "draggable",
        "keyboard",
        "rise_offset",
        "rise_on_hover",
        "rotation_angle",
        "rotation_origin",
        "title",
        "z_index_offset"
       ]
      }
     },
     "b00beec4d7bb437b9440a8cee64e8b78": {
      "model_module": "jupyter-leaflet",
      "model_module_version": "^0.18",
      "model_name": "LeafletMarkerModel",
      "state": {
       "_model_module_version": "^0.18",
       "_view_module_version": "^0.18",
       "icon": "IPY_MODEL_5720a4ea45214020a71da318c8035bc4",
       "location": [
        49.59811800000001,
        6.137250999999992
       ],
       "options": [
        "alt",
        "draggable",
        "keyboard",
        "rise_offset",
        "rise_on_hover",
        "rotation_angle",
        "rotation_origin",
        "title",
        "z_index_offset"
       ]
      }
     },
     "b2367b9e390e4a609b002ea091908571": {
      "model_module": "jupyter-leaflet",
      "model_module_version": "^0.18",
      "model_name": "LeafletMarkerModel",
      "state": {
       "_model_module_version": "^0.18",
       "_view_module_version": "^0.18",
       "icon": "IPY_MODEL_abd190b5784f4e29b11f60eb54e02f48",
       "location": [
        49.59781259999999,
        6.117896500000029
       ],
       "options": [
        "alt",
        "draggable",
        "keyboard",
        "rise_offset",
        "rise_on_hover",
        "rotation_angle",
        "rotation_origin",
        "title",
        "z_index_offset"
       ]
      }
     },
     "b2cd7d471c084e29bf283d08e249488c": {
      "model_module": "jupyter-leaflet",
      "model_module_version": "^0.18",
      "model_name": "LeafletIconModel",
      "state": {
       "_model_module_version": "^0.18",
       "_view_module_version": "^0.18",
       "icon_anchor": [
        10,
        50
       ],
       "icon_size": [
        55.5,
        45
       ],
       "icon_url": "memorecord-logo.png",
       "options": [
        "icon_anchor",
        "icon_size",
        "icon_url",
        "popup_anchor",
        "shadow_anchor",
        "shadow_size",
        "shadow_url"
       ],
       "popup_anchor": [
        1,
        -34
       ],
       "shadow_url": null
      }
     },
     "b5884080218e4b1dafc6bf9659d02310": {
      "model_module": "jupyter-leaflet",
      "model_module_version": "^0.18",
      "model_name": "LeafletMarkerModel",
      "state": {
       "_model_module_version": "^0.18",
       "_view_module_version": "^0.18",
       "icon": "IPY_MODEL_77c26eefc82b44a1a7039a4a7af03be6",
       "location": [
        49.6009719,
        6.137938200000008
       ],
       "options": [
        "alt",
        "draggable",
        "keyboard",
        "rise_offset",
        "rise_on_hover",
        "rotation_angle",
        "rotation_origin",
        "title",
        "z_index_offset"
       ]
      }
     },
     "b79b214f288244949c7e0bc5845f3a62": {
      "model_module": "jupyter-leaflet",
      "model_module_version": "^0.18",
      "model_name": "LeafletMarkerModel",
      "state": {
       "_model_module_version": "^0.18",
       "_view_module_version": "^0.18",
       "icon": "IPY_MODEL_b7b5f9b3167146268189c4bef7c45020",
       "location": [
        49.6268104,
        6.1251307
       ],
       "options": [
        "alt",
        "draggable",
        "keyboard",
        "rise_offset",
        "rise_on_hover",
        "rotation_angle",
        "rotation_origin",
        "title",
        "z_index_offset"
       ]
      }
     },
     "b7aea30b5678430cb95aba5735a84dc1": {
      "model_module": "jupyter-leaflet",
      "model_module_version": "^0.18",
      "model_name": "LeafletMapStyleModel",
      "state": {
       "_model_module_version": "^0.18",
       "cursor": "move"
      }
     },
     "b7b5f9b3167146268189c4bef7c45020": {
      "model_module": "jupyter-leaflet",
      "model_module_version": "^0.18",
      "model_name": "LeafletIconModel",
      "state": {
       "_model_module_version": "^0.18",
       "_view_module_version": "^0.18",
       "icon_anchor": [
        10,
        50
       ],
       "icon_size": [
        55.5,
        45
       ],
       "icon_url": "memorecord-logo.png",
       "options": [
        "icon_anchor",
        "icon_size",
        "icon_url",
        "popup_anchor",
        "shadow_anchor",
        "shadow_size",
        "shadow_url"
       ],
       "popup_anchor": [
        1,
        -34
       ],
       "shadow_url": null
      }
     },
     "b85a0fe6ceb94380acfe67c76b4724fc": {
      "model_module": "jupyter-leaflet",
      "model_module_version": "^0.18",
      "model_name": "LeafletMapStyleModel",
      "state": {
       "_model_module_version": "^0.18"
      }
     },
     "b89294c7410e4b778538eda626236b05": {
      "model_module": "jupyter-leaflet",
      "model_module_version": "^0.18",
      "model_name": "LeafletZoomControlModel",
      "state": {
       "_model_module_version": "^0.18",
       "_view_module_version": "^0.18",
       "options": [
        "position",
        "zoom_in_text",
        "zoom_in_title",
        "zoom_out_text",
        "zoom_out_title"
       ]
      }
     },
     "b963717fda3c422ea125aecf003c3c89": {
      "model_module": "jupyter-leaflet",
      "model_module_version": "^0.18",
      "model_name": "LeafletMarkerModel",
      "state": {
       "_model_module_version": "^0.18",
       "_view_module_version": "^0.18",
       "icon": "IPY_MODEL_b2cd7d471c084e29bf283d08e249488c",
       "location": [
        49.6013138,
        6.137693399999989
       ],
       "options": [
        "alt",
        "draggable",
        "keyboard",
        "rise_offset",
        "rise_on_hover",
        "rotation_angle",
        "rotation_origin",
        "title",
        "z_index_offset"
       ]
      }
     },
     "b964b0e8edcf45cf9f6c5d061e509eaa": {
      "model_module": "jupyter-leaflet",
      "model_module_version": "^0.18",
      "model_name": "LeafletIconModel",
      "state": {
       "_model_module_version": "^0.18",
       "_view_module_version": "^0.18",
       "icon_anchor": [
        10,
        50
       ],
       "icon_size": [
        55.5,
        45
       ],
       "icon_url": "memorecord-logo.png",
       "options": [
        "icon_anchor",
        "icon_size",
        "icon_url",
        "popup_anchor",
        "shadow_anchor",
        "shadow_size",
        "shadow_url"
       ],
       "popup_anchor": [
        1,
        -34
       ],
       "shadow_url": null
      }
     },
     "bccdb1e0255045829a2e01fc58ef837e": {
      "model_module": "jupyter-leaflet",
      "model_module_version": "^0.18",
      "model_name": "LeafletZoomControlModel",
      "state": {
       "_model_module_version": "^0.18",
       "_view_module_version": "^0.18",
       "options": [
        "position",
        "zoom_in_text",
        "zoom_in_title",
        "zoom_out_text",
        "zoom_out_title"
       ]
      }
     },
     "c2fa7f2b582c4c0793c6e40b4e8c407f": {
      "model_module": "jupyter-leaflet",
      "model_module_version": "^0.18",
      "model_name": "LeafletMapModel",
      "state": {
       "_model_module_version": "^0.18",
       "_view_module_version": "^0.18",
       "bottom": 714995.0000030517,
       "center": [
        49.605926696244836,
        6.142047419476176
       ],
       "controls": [
        "IPY_MODEL_bccdb1e0255045829a2e01fc58ef837e",
        "IPY_MODEL_f31ea57dea474b4aaaefe6444b6b549e"
       ],
       "default_style": "IPY_MODEL_886851eac14e4b3dbb1adf056689a3d3",
       "dragging_style": "IPY_MODEL_96b1697f06f8450595584d834c78c0f4",
       "east": 6.2261614941832075,
       "fullscreen": false,
       "interpolation": "bilinear",
       "layers": [
        "IPY_MODEL_85c0aaf752ff4f25b0f5a30818662276",
        "IPY_MODEL_933a80a8510b456aa90daf458517cbdf",
        "IPY_MODEL_646f9c17fdb647739a3e5e0b904e3443",
        "IPY_MODEL_942aa340e254465494828e824554c910",
        "IPY_MODEL_20b1e370b0cd4f94b5abe0c33a96d5bd",
        "IPY_MODEL_6ce5eecb5e7e4810b458890d303dc521",
        "IPY_MODEL_016c4a87ef3f4eb6a92ce4e70bb3e004",
        "IPY_MODEL_21fbdf491794403fa35baa822e137482",
        "IPY_MODEL_d51c0e6a396e4e0f89734d1be000b816",
        "IPY_MODEL_cbd964520b9f4cb797d6377351a432e8",
        "IPY_MODEL_b963717fda3c422ea125aecf003c3c89",
        "IPY_MODEL_b5884080218e4b1dafc6bf9659d02310",
        "IPY_MODEL_911b3fda408049e6ac9b257d4d2efb89",
        "IPY_MODEL_b2367b9e390e4a609b002ea091908571",
        "IPY_MODEL_1218b7ebffdc4b74af6118129075683d",
        "IPY_MODEL_653d3d19f2f24a2eb79f57a0f04d5c46",
        "IPY_MODEL_156a1a85df094ce6813e95840b784309",
        "IPY_MODEL_485f19e794e9410699d634f29fa43145",
        "IPY_MODEL_1d4b418d9834407faf3cb12972b076a4",
        "IPY_MODEL_57e0a03f60a045a6849aed5033f99a12",
        "IPY_MODEL_b79b214f288244949c7e0bc5845f3a62",
        "IPY_MODEL_00da4b69b1444a2b85254b26ba2665eb"
       ],
       "layout": "IPY_MODEL_04d2245e15fa44ecba069058f648ef01",
       "left": 1083866.0195273592,
       "modisdate": "2024-06-10",
       "north": 49.62817034604281,
       "options": [
        "bounce_at_zoom_limits",
        "box_zoom",
        "center",
        "close_popup_on_click",
        "double_click_zoom",
        "dragging",
        "fullscreen",
        "inertia",
        "inertia_deceleration",
        "inertia_max_speed",
        "interpolation",
        "keyboard",
        "keyboard_pan_offset",
        "keyboard_zoom_offset",
        "max_zoom",
        "min_zoom",
        "prefer_canvas",
        "scroll_wheel_zoom",
        "tap",
        "tap_tolerance",
        "touch_zoom",
        "world_copy_jump",
        "zoom",
        "zoom_animation_threshold",
        "zoom_delta",
        "zoom_snap"
       ],
       "prefer_canvas": false,
       "right": 1084846.0195273592,
       "south": 49.58367289296326,
       "style": "IPY_MODEL_886851eac14e4b3dbb1adf056689a3d3",
       "top": 714595.0000030517,
       "west": 6.057933344769145,
       "window_url": "http://localhost:8888/notebooks/Projects/memorecord_map_hotspots-for-distribution-of-flyers-and-posters/notebook.ipynb",
       "zoom": 13
      }
     },
     "c3cc36e828da48908e3d9621b5574eb4": {
      "model_module": "jupyter-leaflet",
      "model_module_version": "^0.18",
      "model_name": "LeafletIconModel",
      "state": {
       "_model_module_version": "^0.18",
       "_view_module_version": "^0.18",
       "icon_anchor": [
        10,
        50
       ],
       "icon_size": [
        55.5,
        45
       ],
       "icon_url": "memorecord-logo.png",
       "options": [
        "icon_anchor",
        "icon_size",
        "icon_url",
        "popup_anchor",
        "shadow_anchor",
        "shadow_size",
        "shadow_url"
       ],
       "popup_anchor": [
        1,
        -34
       ],
       "shadow_url": null
      }
     },
     "ca1eebf9c75f4888811062ef9701fe1d": {
      "model_module": "jupyter-leaflet",
      "model_module_version": "^0.18",
      "model_name": "LeafletIconModel",
      "state": {
       "_model_module_version": "^0.18",
       "_view_module_version": "^0.18",
       "icon_anchor": [
        10,
        50
       ],
       "icon_size": [
        55.5,
        45
       ],
       "icon_url": "memorecord-logo.png",
       "options": [
        "icon_anchor",
        "icon_size",
        "icon_url",
        "popup_anchor",
        "shadow_anchor",
        "shadow_size",
        "shadow_url"
       ],
       "popup_anchor": [
        1,
        -34
       ],
       "shadow_url": null
      }
     },
     "cbd964520b9f4cb797d6377351a432e8": {
      "model_module": "jupyter-leaflet",
      "model_module_version": "^0.18",
      "model_name": "LeafletMarkerModel",
      "state": {
       "_model_module_version": "^0.18",
       "_view_module_version": "^0.18",
       "icon": "IPY_MODEL_b964b0e8edcf45cf9f6c5d061e509eaa",
       "location": [
        49.59811800000001,
        6.137250999999992
       ],
       "options": [
        "alt",
        "draggable",
        "keyboard",
        "rise_offset",
        "rise_on_hover",
        "rotation_angle",
        "rotation_origin",
        "title",
        "z_index_offset"
       ]
      }
     },
     "cbe6a1dfc070413db35e50da1a5aed65": {
      "model_module": "jupyter-leaflet",
      "model_module_version": "^0.18",
      "model_name": "LeafletIconModel",
      "state": {
       "_model_module_version": "^0.18",
       "_view_module_version": "^0.18",
       "icon_anchor": [
        10,
        50
       ],
       "icon_size": [
        55.5,
        45
       ],
       "icon_url": "memorecord-logo.png",
       "options": [
        "icon_anchor",
        "icon_size",
        "icon_url",
        "popup_anchor",
        "shadow_anchor",
        "shadow_size",
        "shadow_url"
       ],
       "popup_anchor": [
        1,
        -34
       ],
       "shadow_url": null
      }
     },
     "cf57e7c61bd5446d87b42651f1976c56": {
      "model_module": "jupyter-leaflet",
      "model_module_version": "^0.18",
      "model_name": "LeafletMarkerModel",
      "state": {
       "_model_module_version": "^0.18",
       "_view_module_version": "^0.18",
       "icon": "IPY_MODEL_2a248a69806c44329468bee406cb3561",
       "location": [
        49.5915596,
        6.124125499999991
       ],
       "options": [
        "alt",
        "draggable",
        "keyboard",
        "rise_offset",
        "rise_on_hover",
        "rotation_angle",
        "rotation_origin",
        "title",
        "z_index_offset"
       ]
      }
     },
     "cf8d5534d8214ceba02273821d5f6713": {
      "model_module": "jupyter-leaflet",
      "model_module_version": "^0.18",
      "model_name": "LeafletMarkerModel",
      "state": {
       "_model_module_version": "^0.18",
       "_view_module_version": "^0.18",
       "icon": "IPY_MODEL_93bbdaa5e7cb4acfb2f63560379606e7",
       "location": [
        49.59727729999999,
        6.139120000000048
       ],
       "options": [
        "alt",
        "draggable",
        "keyboard",
        "rise_offset",
        "rise_on_hover",
        "rotation_angle",
        "rotation_origin",
        "title",
        "z_index_offset"
       ]
      }
     },
     "d2168cfbd189463bac5b5908e70065a8": {
      "model_module": "jupyter-leaflet",
      "model_module_version": "^0.18",
      "model_name": "LeafletMarkerModel",
      "state": {
       "_model_module_version": "^0.18",
       "_view_module_version": "^0.18",
       "icon": "IPY_MODEL_c3cc36e828da48908e3d9621b5574eb4",
       "location": [
        49.6009719,
        6.137938200000008
       ],
       "options": [
        "alt",
        "draggable",
        "keyboard",
        "rise_offset",
        "rise_on_hover",
        "rotation_angle",
        "rotation_origin",
        "title",
        "z_index_offset"
       ]
      }
     },
     "d2d654085a37420d8670735d33ed8de2": {
      "model_module": "jupyter-leaflet",
      "model_module_version": "^0.18",
      "model_name": "LeafletMapStyleModel",
      "state": {
       "_model_module_version": "^0.18"
      }
     },
     "d2d93fb7127740d48b29ad8b00dd7302": {
      "model_module": "jupyter-leaflet",
      "model_module_version": "^0.18",
      "model_name": "LeafletIconModel",
      "state": {
       "_model_module_version": "^0.18",
       "_view_module_version": "^0.18",
       "icon_anchor": [
        10,
        50
       ],
       "icon_size": [
        55.5,
        45
       ],
       "icon_url": "memorecord-logo.png",
       "options": [
        "icon_anchor",
        "icon_size",
        "icon_url",
        "popup_anchor",
        "shadow_anchor",
        "shadow_size",
        "shadow_url"
       ],
       "popup_anchor": [
        1,
        -34
       ],
       "shadow_url": null
      }
     },
     "d51c0e6a396e4e0f89734d1be000b816": {
      "model_module": "jupyter-leaflet",
      "model_module_version": "^0.18",
      "model_name": "LeafletMarkerModel",
      "state": {
       "_model_module_version": "^0.18",
       "_view_module_version": "^0.18",
       "icon": "IPY_MODEL_da9e082c585941d385cd0789d07f1d54",
       "location": [
        49.5964143,
        6.137935999999968
       ],
       "options": [
        "alt",
        "draggable",
        "keyboard",
        "rise_offset",
        "rise_on_hover",
        "rotation_angle",
        "rotation_origin",
        "title",
        "z_index_offset"
       ]
      }
     },
     "d579fe862476459484cd0a1feb520be4": {
      "model_module": "jupyter-leaflet",
      "model_module_version": "^0.18",
      "model_name": "LeafletIconModel",
      "state": {
       "_model_module_version": "^0.18",
       "_view_module_version": "^0.18",
       "icon_anchor": [
        10,
        50
       ],
       "icon_size": [
        55.5,
        45
       ],
       "icon_url": "memorecord-logo.png",
       "options": [
        "icon_anchor",
        "icon_size",
        "icon_url",
        "popup_anchor",
        "shadow_anchor",
        "shadow_size",
        "shadow_url"
       ],
       "popup_anchor": [
        1,
        -34
       ],
       "shadow_url": null
      }
     },
     "da9e082c585941d385cd0789d07f1d54": {
      "model_module": "jupyter-leaflet",
      "model_module_version": "^0.18",
      "model_name": "LeafletIconModel",
      "state": {
       "_model_module_version": "^0.18",
       "_view_module_version": "^0.18",
       "icon_anchor": [
        10,
        50
       ],
       "icon_size": [
        55.5,
        45
       ],
       "icon_url": "memorecord-logo.png",
       "options": [
        "icon_anchor",
        "icon_size",
        "icon_url",
        "popup_anchor",
        "shadow_anchor",
        "shadow_size",
        "shadow_url"
       ],
       "popup_anchor": [
        1,
        -34
       ],
       "shadow_url": null
      }
     },
     "db1db321fa0544f28e46fb7781e6bf07": {
      "model_module": "jupyter-leaflet",
      "model_module_version": "^0.18",
      "model_name": "LeafletIconModel",
      "state": {
       "_model_module_version": "^0.18",
       "_view_module_version": "^0.18",
       "icon_anchor": [
        10,
        50
       ],
       "icon_size": [
        55.5,
        45
       ],
       "icon_url": "memorecord-logo.png",
       "options": [
        "icon_anchor",
        "icon_size",
        "icon_url",
        "popup_anchor",
        "shadow_anchor",
        "shadow_size",
        "shadow_url"
       ],
       "popup_anchor": [
        1,
        -34
       ],
       "shadow_url": null
      }
     },
     "e1adc7c7f89a4398a9447d60a6d53a1b": {
      "model_module": "jupyter-leaflet",
      "model_module_version": "^0.18",
      "model_name": "LeafletIconModel",
      "state": {
       "_model_module_version": "^0.18",
       "_view_module_version": "^0.18",
       "icon_anchor": [
        10,
        50
       ],
       "icon_size": [
        55.5,
        45
       ],
       "icon_url": "memorecord-logo.png",
       "options": [
        "icon_anchor",
        "icon_size",
        "icon_url",
        "popup_anchor",
        "shadow_anchor",
        "shadow_size",
        "shadow_url"
       ],
       "popup_anchor": [
        1,
        -34
       ],
       "shadow_url": null
      }
     },
     "e4de5252bc384fa3bd8f8e180787ab49": {
      "model_module": "jupyter-leaflet",
      "model_module_version": "^0.18",
      "model_name": "LeafletMarkerModel",
      "state": {
       "_model_module_version": "^0.18",
       "_view_module_version": "^0.18",
       "icon": "IPY_MODEL_97279ae899a14bcab175574abd6bcb84",
       "location": [
        49.60135160000001,
        6.136572399999977
       ],
       "options": [
        "alt",
        "draggable",
        "keyboard",
        "rise_offset",
        "rise_on_hover",
        "rotation_angle",
        "rotation_origin",
        "title",
        "z_index_offset"
       ]
      }
     },
     "e7a9155657f14bd5b6410842197c8641": {
      "model_module": "jupyter-leaflet",
      "model_module_version": "^0.18",
      "model_name": "LeafletIconModel",
      "state": {
       "_model_module_version": "^0.18",
       "_view_module_version": "^0.18",
       "icon_anchor": [
        10,
        50
       ],
       "icon_size": [
        55.5,
        45
       ],
       "icon_url": "memorecord-logo.png",
       "options": [
        "icon_anchor",
        "icon_size",
        "icon_url",
        "popup_anchor",
        "shadow_anchor",
        "shadow_size",
        "shadow_url"
       ],
       "popup_anchor": [
        1,
        -34
       ],
       "shadow_url": null
      }
     },
     "eac50f82f0b14331a9ead7c3efebabca": {
      "model_module": "jupyter-leaflet",
      "model_module_version": "^0.18",
      "model_name": "LeafletAttributionControlModel",
      "state": {
       "_model_module_version": "^0.18",
       "_view_module_version": "^0.18",
       "options": [
        "position",
        "prefix"
       ],
       "position": "bottomright",
       "prefix": "ipyleaflet"
      }
     },
     "ec8a1be66c8a43ecbe7ca47e3bbde5c2": {
      "model_module": "jupyter-leaflet",
      "model_module_version": "^0.18",
      "model_name": "LeafletMarkerModel",
      "state": {
       "_model_module_version": "^0.18",
       "_view_module_version": "^0.18",
       "icon": "IPY_MODEL_057b1b6f74564bfb9464aa67e6576010",
       "location": [
        49.5954506,
        6.135699299999942
       ],
       "options": [
        "alt",
        "draggable",
        "keyboard",
        "rise_offset",
        "rise_on_hover",
        "rotation_angle",
        "rotation_origin",
        "title",
        "z_index_offset"
       ]
      }
     },
     "ec8dd4cf138c4c7884130b2dd51678a7": {
      "model_module": "jupyter-leaflet",
      "model_module_version": "^0.18",
      "model_name": "LeafletIconModel",
      "state": {
       "_model_module_version": "^0.18",
       "_view_module_version": "^0.18",
       "icon_anchor": [
        10,
        50
       ],
       "icon_size": [
        55.5,
        45
       ],
       "icon_url": "memorecord-logo.png",
       "options": [
        "icon_anchor",
        "icon_size",
        "icon_url",
        "popup_anchor",
        "shadow_anchor",
        "shadow_size",
        "shadow_url"
       ],
       "popup_anchor": [
        1,
        -34
       ],
       "shadow_url": null
      }
     },
     "f1e77da5751243e5a485aff87827019f": {
      "model_module": "jupyter-leaflet",
      "model_module_version": "^0.18",
      "model_name": "LeafletIconModel",
      "state": {
       "_model_module_version": "^0.18",
       "_view_module_version": "^0.18",
       "icon_anchor": [
        10,
        50
       ],
       "icon_size": [
        55.5,
        45
       ],
       "icon_url": "memorecord-logo.png",
       "options": [
        "icon_anchor",
        "icon_size",
        "icon_url",
        "popup_anchor",
        "shadow_anchor",
        "shadow_size",
        "shadow_url"
       ],
       "popup_anchor": [
        1,
        -34
       ],
       "shadow_url": null
      }
     },
     "f31ea57dea474b4aaaefe6444b6b549e": {
      "model_module": "jupyter-leaflet",
      "model_module_version": "^0.18",
      "model_name": "LeafletAttributionControlModel",
      "state": {
       "_model_module_version": "^0.18",
       "_view_module_version": "^0.18",
       "options": [
        "position",
        "prefix"
       ],
       "position": "bottomright",
       "prefix": "ipyleaflet"
      }
     },
     "f38d093217774510b8e5b5779a99aaea": {
      "model_module": "jupyter-leaflet",
      "model_module_version": "^0.18",
      "model_name": "LeafletIconModel",
      "state": {
       "_model_module_version": "^0.18",
       "_view_module_version": "^0.18",
       "icon_anchor": [
        10,
        50
       ],
       "icon_size": [
        55.5,
        45
       ],
       "icon_url": "memorecord-logo.png",
       "options": [
        "icon_anchor",
        "icon_size",
        "icon_url",
        "popup_anchor",
        "shadow_anchor",
        "shadow_size",
        "shadow_url"
       ],
       "popup_anchor": [
        1,
        -34
       ],
       "shadow_url": null
      }
     },
     "f7fb903044504251ac8282eb053c2012": {
      "model_module": "jupyter-leaflet",
      "model_module_version": "^0.18",
      "model_name": "LeafletMarkerModel",
      "state": {
       "_model_module_version": "^0.18",
       "_view_module_version": "^0.18",
       "icon": "IPY_MODEL_ec8dd4cf138c4c7884130b2dd51678a7",
       "location": [
        49.59781259999999,
        6.117896500000029
       ],
       "options": [
        "alt",
        "draggable",
        "keyboard",
        "rise_offset",
        "rise_on_hover",
        "rotation_angle",
        "rotation_origin",
        "title",
        "z_index_offset"
       ]
      }
     },
     "fad67d692ded49f29d99a2c17f3f0680": {
      "model_module": "jupyter-leaflet",
      "model_module_version": "^0.18",
      "model_name": "LeafletIconModel",
      "state": {
       "_model_module_version": "^0.18",
       "_view_module_version": "^0.18",
       "icon_anchor": [
        10,
        50
       ],
       "icon_size": [
        55.5,
        45
       ],
       "icon_url": "memorecord-logo.png",
       "options": [
        "icon_anchor",
        "icon_size",
        "icon_url",
        "popup_anchor",
        "shadow_anchor",
        "shadow_size",
        "shadow_url"
       ],
       "popup_anchor": [
        1,
        -34
       ],
       "shadow_url": null
      }
     },
     "faeca7a95d2a4a99959f1c5f513823af": {
      "model_module": "jupyter-leaflet",
      "model_module_version": "^0.18",
      "model_name": "LeafletMarkerModel",
      "state": {
       "_model_module_version": "^0.18",
       "_view_module_version": "^0.18",
       "icon": "IPY_MODEL_50700d1ad5ce44b28cb93dee1d2ecac0",
       "location": [
        49.5964143,
        6.137935999999968
       ],
       "options": [
        "alt",
        "draggable",
        "keyboard",
        "rise_offset",
        "rise_on_hover",
        "rotation_angle",
        "rotation_origin",
        "title",
        "z_index_offset"
       ]
      }
     }
    },
    "version_major": 2,
    "version_minor": 0
   }
  }
 },
 "nbformat": 4,
 "nbformat_minor": 5
}
